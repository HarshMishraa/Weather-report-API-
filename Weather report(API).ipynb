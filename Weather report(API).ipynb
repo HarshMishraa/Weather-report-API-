{
 "cells": [
  {
   "cell_type": "code",
   "execution_count": 4,
   "id": "3fcceb0a",
   "metadata": {},
   "outputs": [
    {
     "name": "stdout",
     "output_type": "stream",
     "text": [
      "Enter the city name: Jabalpur\n",
      "--------------------------------------------------------------\n",
      "Weather stats for - JABALPUR || 01 Jul 2022 | 04:51:29 PM\n",
      "--------------------------------------------------------------\n",
      "Current temperature is : 31.47 deg C\n",
      "Current weather desc   : haze\n",
      "Current Humidity       : 66 %\n",
      "Current wind speed     : 3.09 kmph\n"
     ]
    }
   ],
   "source": [
    "import requests\n",
    "import os\n",
    "from datetime import datetime\n",
    "\n",
    "user_api = os.environ['current_weather_data']\n",
    "location = input(\"Enter the city name: \")\n",
    "\n",
    "complete_api_link = \"https://api.openweathermap.org/data/2.5/weather?q=\"+location+\"&appid=\"+user_api\n",
    "api_link = requests.get(complete_api_link)\n",
    "api_data = api_link.json()\n",
    "\n",
    "#Create variables to store and display data.\n",
    "temp_city = ((api_data['main']['temp'])-273.15)\n",
    "weather_desc = api_data['weather'][0]['description']\n",
    "hmdt = api_data['main']['humidity']\n",
    "wind_spd = api_data['wind']['speed']\n",
    "date_time = datetime.now().strftime(\"%d %b %Y | %I:%M:%S %p\")\n",
    "\n",
    "print(\"--------------------------------------------------------------\")\n",
    "print(\"Weather stats for - {} || {}\".format(location.upper(),date_time))\n",
    "print(\"--------------------------------------------------------------\")\n",
    "\n",
    "print(\"Current temperature is : {:.2f} deg C\".format(temp_city))\n",
    "print(\"Current weather desc   :\" ,weather_desc)\n",
    "print(\"Current Humidity       :\",hmdt,'%')\n",
    "print(\"Current wind speed     :\",wind_spd , 'kmph')"
   ]
  },
  {
   "cell_type": "code",
   "execution_count": null,
   "id": "52010954",
   "metadata": {},
   "outputs": [],
   "source": []
  },
  {
   "cell_type": "code",
   "execution_count": null,
   "id": "33b3e2fd",
   "metadata": {},
   "outputs": [],
   "source": []
  }
 ],
 "metadata": {
  "kernelspec": {
   "display_name": "Python 3 (ipykernel)",
   "language": "python",
   "name": "python3"
  },
  "language_info": {
   "codemirror_mode": {
    "name": "ipython",
    "version": 3
   },
   "file_extension": ".py",
   "mimetype": "text/x-python",
   "name": "python",
   "nbconvert_exporter": "python",
   "pygments_lexer": "ipython3",
   "version": "3.9.7"
  }
 },
 "nbformat": 4,
 "nbformat_minor": 5
}
